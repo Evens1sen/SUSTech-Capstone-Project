{
 "cells": [
  {
   "cell_type": "code",
   "execution_count": null,
   "metadata": {},
   "outputs": [],
   "source": [
    "import numpy as np\n",
    "import seaborn as sns\n",
    "import matplotlib.pylab as plt\n",
    "\n",
    "with open(\"W_od_taxi.csv\") as f:\n",
    "    arr = np.loadtxt(f,delimiter=',')\n",
    "arr = np.array(arr)\n",
    "arr = np.delete(arr,0,0)\n",
    "a = sns.heatmap(arr,center=0.75)\n",
    "plt.title('The visualization of OD Matrix')\n",
    "plt.show()\n",
    "\n",
    "with open(\"W_adj_matrix.csv\") as f:\n",
    "    arr = np.loadtxt(f,delimiter=',')\n",
    "arr = np.array(arr)\n",
    "arr = np.delete(arr,0,0)\n",
    "a = sns.heatmap(arr,center=3)\n",
    "plt.title('The visualization of 0-1 Matrix')\n",
    "plt.show()"
   ]
  }
 ],
 "metadata": {
  "interpreter": {
   "hash": "4eaddab6d53e3430d65e281d179b4d2e07f5e3825831a8a8ccb553d0c5f6e5f0"
  },
  "kernelspec": {
   "display_name": "Python 3.7.7 ('torch1.7': conda)",
   "language": "python",
   "name": "python3"
  },
  "language_info": {
   "name": "python",
   "version": "3.7.7"
  },
  "orig_nbformat": 4
 },
 "nbformat": 4,
 "nbformat_minor": 2
}
