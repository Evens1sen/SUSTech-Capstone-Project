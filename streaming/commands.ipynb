{
 "cells": [
  {
   "attachments": {},
   "cell_type": "markdown",
   "metadata": {},
   "source": [
    "### Kafka"
   ]
  },
  {
   "cell_type": "code",
   "execution_count": null,
   "metadata": {
    "vscode": {
     "languageId": "shellscript"
    }
   },
   "outputs": [],
   "source": [
    "# Start Zookeeper and Kafka\n",
    "bin/zookeeper-server-start.sh config/zookeeper.properties\n",
    "bin/kafka-server-start.sh config/server.properties\n",
    "\n",
    "# Create Kafka topic\n",
    "bin/kafka-topics.sh --create --topic taxi_inflow --bootstrap-server localhost:9092 \n",
    "bin/kafka-topics.sh --create --topic taxi_outflow --bootstrap-server localhost:9092\n",
    "\n",
    "# Delete Kafka topic\n",
    "bin/kafka-topics.sh --delete --topic taxi_inflow --bootstrap-server localhost:9092 \n",
    "bin/kafka-topics.sh --delete --topic taxi_outflow --bootstrap-server localhost:9092\n",
    "\n",
    "# Describe a topic\n",
    "bin/kafka-topics.sh --describe --topic taxi_inflow --bootstrap-server localhost:9092\n",
    "bin/kafka-topics.sh --describe --topic taxi_outflow --bootstrap-server localhost:9092\n",
    "\n",
    "# Listening a Kafka topic\n",
    "bin/kafka-console-consumer.sh --topic taxi_inflow --from-beginning --bootstrap-server localhost:9092 \n",
    "bin/kafka-console-consumer.sh --topic taxi_outflow --from-beginning --bootstrap-server localhost:9092 "
   ]
  },
  {
   "attachments": {},
   "cell_type": "markdown",
   "metadata": {},
   "source": [
    "### ElasticSearch"
   ]
  },
  {
   "cell_type": "code",
   "execution_count": null,
   "metadata": {
    "vscode": {
     "languageId": "shellscript"
    }
   },
   "outputs": [],
   "source": [
    "./bin/elasticsearch\n",
    "./bin/kibana\n",
    "\n",
    "# Join data and gsojson in Kibana\n",
    "POST /_aliases\n",
    "{\n",
    "  \"actions\": [{\"add\": {\"index\": \"taxi_inflow_es\",\"alias\": \"joined_index\"}},\n",
    "              {\"add\": {\"index\": \"reprojected_manhattan_data\",\"alias\": \"joined_index\"}}]\n",
    "}\n"
   ]
  }
 ],
 "metadata": {
  "language_info": {
   "name": "python"
  },
  "orig_nbformat": 4
 },
 "nbformat": 4,
 "nbformat_minor": 2
}
