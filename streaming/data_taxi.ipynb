{
 "cells": [
  {
   "cell_type": "code",
   "execution_count": null,
   "metadata": {},
   "outputs": [],
   "source": [
    "import numpy as np\n",
    "import pandas as pd\n",
    "import time\n",
    "from kafka import KafkaProducer\n"
   ]
  },
  {
   "cell_type": "code",
   "execution_count": null,
   "metadata": {},
   "outputs": [],
   "source": [
    "# Explore the original data for Taxi in 2019-2\n",
    "path = '../data/yellow_tripdata_2019-02.csv'\n",
    "taxi_data = pd.read_csv(path, dtype=str)\n",
    "taxi_data.columns\n"
   ]
  },
  {
   "cell_type": "code",
   "execution_count": null,
   "metadata": {},
   "outputs": [],
   "source": [
    "# Discard some unrelated columns to simplify the problem\n",
    "# Some other attributes may be used later\n",
    "simplified_taxi_data = taxi_data.drop(['VendorID',  'passenger_count', 'trip_distance', 'RatecodeID', 'store_and_fwd_flag', 'payment_type', 'fare_amount', 'extra', 'total_amount',\n",
    "                                       'mta_tax', 'tip_amount', 'tolls_amount', 'improvement_surcharge', 'total_amount', 'congestion_surcharge'], axis=1)\n",
    "\n",
    "simplified_taxi_data\n"
   ]
  },
  {
   "cell_type": "code",
   "execution_count": null,
   "metadata": {},
   "outputs": [],
   "source": [
    "# Filter out the data within the manhattan zones\n",
    "simplified_taxi_data['DOLocationID'] = simplified_taxi_data['DOLocationID'].astype('int64')\n",
    "simplified_taxi_data['PULocationID'] = simplified_taxi_data['PULocationID'].astype('int64')\n",
    "\n",
    "manhattan_zones = pd.read_csv(\"../data-NYCZones/zones/manhattan_zones.csv\")\n",
    "manhattan_zones_id  = list(manhattan_zones[\"zone_id\"])\n",
    "manhattan_taxi_data = simplified_taxi_data[(simplified_taxi_data['DOLocationID'].isin(manhattan_zones_id)) & (simplified_taxi_data['PULocationID'].isin(manhattan_zones_id))]\n",
    "\n",
    "# Discard data out of the time range\n",
    "year = 2019\n",
    "month = 2\n",
    "manhattan_taxi_data = manhattan_taxi_data[manhattan_taxi_data[\"tpep_pickup_datetime\"] > f\"{year}-%02d-01 00:00:00\" % month]\n",
    "manhattan_taxi_data = manhattan_taxi_data[manhattan_taxi_data[\"tpep_dropoff_datetime\"] > f\"{year}-%02d-01 00:00:00\" % month]\n",
    "manhattan_taxi_data = manhattan_taxi_data[manhattan_taxi_data[\"tpep_pickup_datetime\"] < f\"{year}-%02d-31 23:59:59\" % month]\n",
    "manhattan_taxi_data = manhattan_taxi_data[manhattan_taxi_data[\"tpep_dropoff_datetime\"] < f\"{year}-%02d-31 23:59:59\" % month]\n",
    "\n",
    "# Align time into hour, maybe handled with flink later\n",
    "manhattan_taxi_data['tpep_pickup_datetime'] = pd.to_datetime(manhattan_taxi_data['tpep_pickup_datetime'])\n",
    "manhattan_taxi_data['tpep_dropoff_datetime'] = pd.to_datetime(manhattan_taxi_data['tpep_dropoff_datetime'])"
   ]
  },
  {
   "cell_type": "code",
   "execution_count": null,
   "metadata": {},
   "outputs": [],
   "source": [
    "# Sort by drop off time to simulate the real-time events\n",
    "result = manhattan_taxi_data\n",
    "result = result.sort_values(by=['tpep_dropoff_datetime'])\n",
    "\n",
    "# Filter to get the data in 2019-02-01\n",
    "result = result[result[\"tpep_dropoff_datetime\"] < f\"2019-02-01 23:59:59\"]\n",
    "result"
   ]
  },
  {
   "cell_type": "code",
   "execution_count": null,
   "metadata": {},
   "outputs": [],
   "source": [
    "# Preload the data for 1 hour\n",
    "pre_loaded_data = result[result[\"tpep_dropoff_datetime\"] < f\"2019-02-01 01:00:06\"]\n",
    "pre_loaded_data"
   ]
  },
  {
   "cell_type": "code",
   "execution_count": null,
   "metadata": {},
   "outputs": [],
   "source": [
    "# The data in time range [1:00, 3:00] are loaded for testing\n",
    "# The time scale is 1min -> 1sec, so lasting for 2 minutes\n",
    "remaining_data = result[(result[\"tpep_dropoff_datetime\"] > f\"2019-02-01 01:00:00\")\n",
    "                        & (result[\"tpep_dropoff_datetime\"] < f\"2019-02-01 03:00:00\")]\n",
    "remaining_data\n"
   ]
  },
  {
   "cell_type": "code",
   "execution_count": null,
   "metadata": {},
   "outputs": [],
   "source": [
    "preloaded_taxi_inflow = pre_loaded_data.drop(['tpep_pickup_datetime', 'PULocationID'], axis=1)\n",
    "preloaded_taxi_outflow = pre_loaded_data.drop(['tpep_dropoff_datetime', 'DOLocationID'], axis=1)\n",
    "\n",
    "remaining_taxi_inflow = remaining_data.drop(['tpep_pickup_datetime', 'PULocationID'], axis=1)\n",
    "remaining_taxi_outflow = remaining_data.drop(['tpep_dropoff_datetime', 'DOLocationID'], axis=1)"
   ]
  },
  {
   "cell_type": "code",
   "execution_count": null,
   "metadata": {},
   "outputs": [],
   "source": [
    "preloaded_taxi_inflow['tpep_dropoff_datetime'] = preloaded_taxi_inflow['tpep_dropoff_datetime'].astype(str)\n",
    "preloaded_taxi_outflow['tpep_pickup_datetime'] = preloaded_taxi_outflow['tpep_pickup_datetime'].astype(str)\n",
    "\n",
    "remaining_taxi_inflow['tpep_dropoff_datetime'] = remaining_taxi_inflow['tpep_dropoff_datetime'].astype(str)\n",
    "remaining_taxi_outflow['tpep_pickup_datetime'] = remaining_taxi_outflow['tpep_pickup_datetime'].astype(str)"
   ]
  },
  {
   "cell_type": "code",
   "execution_count": null,
   "metadata": {},
   "outputs": [],
   "source": [
    "preloaded_taxi_inflow = preloaded_taxi_inflow.rename(columns={'tpep_dropoff_datetime': 'time', 'DOLocationID': 'region_id'})\n",
    "preloaded_taxi_outflow = preloaded_taxi_outflow.rename(columns={'tpep_pickup_datetime': 'time', 'PULocationID': 'region_id'})\n",
    "\n",
    "remaining_taxi_inflow = remaining_taxi_inflow.rename(columns={'tpep_dropoff_datetime': 'time', 'DOLocationID': 'region_id'})\n",
    "remaining_taxi_outflow = remaining_taxi_outflow.rename(columns={'tpep_pickup_datetime': 'time', 'PULocationID': 'region_id'})"
   ]
  },
  {
   "cell_type": "code",
   "execution_count": null,
   "metadata": {},
   "outputs": [],
   "source": [
    "preloaded_taxi_inflow\n",
    "preloaded_taxi_outflow = preloaded_taxi_outflow.sort_values('time')\n",
    "preloaded_taxi_outflow\n",
    "\n",
    "# remaining_taxi_inflow\n",
    "# remaining_taxi_outflow = remaining_taxi_outflow.sort_values('time')\n",
    "# remaining_taxi_outflow\n",
    "\n",
    "# Add some data out of range to ensure the tumble window finished\n",
    "# preloaded_taxi_inflow = preloaded_taxi_inflow.append(remaining_taxi_inflow.iloc[0:10])\n",
    "preloaded_taxi_outflow = preloaded_taxi_outflow.append(remaining_taxi_outflow.iloc[0:10])\n",
    "preloaded_taxi_outflow"
   ]
  },
  {
   "cell_type": "code",
   "execution_count": null,
   "metadata": {},
   "outputs": [],
   "source": [
    "# Import data to kafka\n",
    "producer = KafkaProducer(bootstrap_servers='localhost:9092')\n",
    "\n",
    "# Preload the data into Kafka\n",
    "N = preloaded_taxi_inflow.shape[0]\n",
    "for i in range(N):\n",
    "    inflow_string = preloaded_taxi_inflow.iloc[i].to_json()\n",
    "    outflow_string = preloaded_taxi_outflow.iloc[i].to_json()\n",
    "\n",
    "    # To send a message\n",
    "    producer.send('taxi_inflow', inflow_string.encode('utf-8'))\n",
    "    producer.send('taxi_outflow', outflow_string.encode('utf-8'))"
   ]
  },
  {
   "cell_type": "code",
   "execution_count": null,
   "metadata": {},
   "outputs": [],
   "source": [
    "producer = KafkaProducer(bootstrap_servers='localhost:9092')\n",
    "\n",
    "N = remaining_taxi_inflow.shape[0]\n",
    "for i in range(N):\n",
    "    inflow_string = remaining_taxi_inflow.iloc[i].to_json()\n",
    "    outflow_string = remaining_taxi_outflow.iloc[i].to_json()\n",
    "\n",
    "    # To send a message\n",
    "    producer.send('taxi_inflow', inflow_string.encode('utf-8'))\n",
    "    producer.send('taxi_outflow', outflow_string.encode('utf-8'))\n",
    "    time.sleep(0.1)\n",
    "\n",
    "producer.flush()  # Wait for any outstanding messages to be transmitted and delivery acknowledgments received\n",
    "producer.close()"
   ]
  }
 ],
 "metadata": {
  "kernelspec": {
   "display_name": "Python 3",
   "language": "python",
   "name": "python3"
  },
  "language_info": {
   "codemirror_mode": {
    "name": "ipython",
    "version": 3
   },
   "file_extension": ".py",
   "mimetype": "text/x-python",
   "name": "python",
   "nbconvert_exporter": "python",
   "pygments_lexer": "ipython3",
   "version": "3.11.0"
  },
  "orig_nbformat": 4
 },
 "nbformat": 4,
 "nbformat_minor": 2
}
