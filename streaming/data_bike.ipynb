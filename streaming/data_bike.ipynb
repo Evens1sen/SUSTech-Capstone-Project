{
 "cells": [
  {
   "cell_type": "code",
   "execution_count": null,
   "metadata": {},
   "outputs": [],
   "source": [
    "import numpy as np\n",
    "import pandas as pd\n",
    "import time\n",
    "import geopandas as gpd\n",
    "from shapely import geometry\n",
    "from pyproj import CRS\n",
    "from pyproj import Transformer\n"
   ]
  },
  {
   "cell_type": "code",
   "execution_count": null,
   "metadata": {},
   "outputs": [],
   "source": [
    "# Explore the original data for Bike in 2019-1\n",
    "path = '../data/201902-citibike-tripdata.csv'\n",
    "bike_data = pd.read_csv(path, dtype=str)\n",
    "\n",
    "# Discard some unrelated columns to simplify the problem\n",
    "# Some other attributes may be used later\n",
    "simplified_bike_data = bike_data.drop(['tripduration', 'start station id',\n",
    "       'start station name', 'end station id', 'end station name',\n",
    "       'bikeid', 'usertype', 'birth year', 'gender'], axis=1)\n",
    "\n",
    "simplified_bike_data"
   ]
  },
  {
   "cell_type": "code",
   "execution_count": null,
   "metadata": {},
   "outputs": [],
   "source": [
    "# Discard data out of the time range\n",
    "year = 2019\n",
    "month = 2\n",
    "simplified_bike_data = simplified_bike_data[simplified_bike_data[\"starttime\"] > f\"{year}-%02d-01 00:00:00\" % month]\n",
    "simplified_bike_data = simplified_bike_data[simplified_bike_data[\"stoptime\"] > f\"{year}-%02d-01 00:00:00\" % month]\n",
    "simplified_bike_data = simplified_bike_data[simplified_bike_data[\"starttime\"] < f\"{year}-%02d-01 03:59:59\" % month]\n",
    "simplified_bike_data = simplified_bike_data[simplified_bike_data[\"stoptime\"] < f\"{year}-%02d-01 03:59:59\" % month]"
   ]
  },
  {
   "cell_type": "code",
   "execution_count": null,
   "metadata": {},
   "outputs": [],
   "source": [
    "simplified_bike_data"
   ]
  },
  {
   "cell_type": "code",
   "execution_count": null,
   "metadata": {},
   "outputs": [],
   "source": [
    "import csv\n",
    "\n",
    "crs_WGS84 = CRS.from_epsg(4326)\n",
    "crs_taxi_zones = CRS.from_epsg(2263)\n",
    "transformer = Transformer.from_crs(crs_WGS84, crs_taxi_zones)\n",
    "manhattan_zones_file = open('../data-NYCZones/zones/manhattan_zones.csv', encoding='utf-8')\n",
    "manhattan_zones_reader = csv.reader(manhattan_zones_file)\n",
    "taxi_zones = gpd.read_file(\"../data-NYCZones/zones/taxi_zones.shp\")\n",
    "manhattan_zones_numbers = []\n",
    "start = 0\n",
    "\n",
    "for i in manhattan_zones_reader:\n",
    "    if start == 0:\n",
    "        start = 1\n",
    "        continue\n",
    "    manhattan_zones_numbers.append(i[0])\n",
    "\n",
    "manhattan_zones_numbers = manhattan_zones_numbers[1:]\n",
    "manhattan_zones_numbers = [int(i) for i in manhattan_zones_numbers]\n",
    "manhattan_zones = taxi_zones[taxi_zones['LocationID'].isin(manhattan_zones_numbers)]\n",
    "manhattan_zones"
   ]
  },
  {
   "cell_type": "code",
   "execution_count": null,
   "metadata": {},
   "outputs": [],
   "source": [
    "def get_PULocationID(row):\n",
    "    start_latitude = row['start station latitude']\n",
    "    start_longitude = row['start station longitude']\n",
    "    x, y = transformer.transform(start_latitude, start_longitude)\n",
    "    for index, row in manhattan_zones.iterrows():\n",
    "        if geometry.Point(x, y).within(row['geometry']):\n",
    "            return index + 1\n",
    "        \n",
    "def get_DOLocationID(row):\n",
    "    stop_latitude = row['end station latitude']\n",
    "    stop_longitude = row['end station longitude']\n",
    "    x, y = transformer.transform(stop_latitude, stop_longitude)\n",
    "    for index, row in manhattan_zones.iterrows():\n",
    "        if geometry.Point(x, y).within(row['geometry']):\n",
    "            return index + 1\n",
    "        \n",
    "simplified_bike_data['PULocationID'] = simplified_bike_data.apply(get_PULocationID, axis=1)\n",
    "simplified_bike_data['DOLocationID'] = simplified_bike_data.apply(get_DOLocationID, axis=1)\n",
    "simplified_bike_data"
   ]
  },
  {
   "cell_type": "code",
   "execution_count": null,
   "metadata": {},
   "outputs": [],
   "source": [
    "simplified_bike_data = simplified_bike_data.dropna(how='any')\n",
    "simplified_bike_data = simplified_bike_data.drop(['start station latitude', 'start station longitude', 'end station latitude', 'end station longitude'], axis=1)\n",
    "simplified_bike_data"
   ]
  },
  {
   "cell_type": "code",
   "execution_count": null,
   "metadata": {},
   "outputs": [],
   "source": [
    "simplified_bike_data['DOLocationID'] = simplified_bike_data['DOLocationID'].astype('int64')\n",
    "simplified_bike_data['PULocationID'] = simplified_bike_data['PULocationID'].astype('int64')\n",
    "simplified_bike_data['starttime'] = pd.to_datetime(simplified_bike_data['starttime'])\n",
    "simplified_bike_data['stoptime'] = pd.to_datetime(simplified_bike_data['stoptime'])\n",
    "simplified_bike_data"
   ]
  },
  {
   "cell_type": "code",
   "execution_count": null,
   "metadata": {},
   "outputs": [],
   "source": [
    "simplified_bike_data['starttime'] = simplified_bike_data['starttime'].astype(str)\n",
    "simplified_bike_data['stoptime'] = simplified_bike_data['stoptime'].astype(str)\n",
    "\n",
    "bike_inflow = simplified_bike_data.drop(['starttime', 'PULocationID'], axis=1)\n",
    "bike_outflow = simplified_bike_data.drop(['stoptime', 'DOLocationID'], axis=1)"
   ]
  },
  {
   "cell_type": "code",
   "execution_count": null,
   "metadata": {},
   "outputs": [],
   "source": [
    "bike_inflow = bike_inflow.rename(columns={'stoptime': 'time', 'DOLocationID': 'region_id'})\n",
    "bike_outflow = bike_outflow.rename(columns={'starttime': 'time', 'PULocationID': 'region_id'})"
   ]
  },
  {
   "cell_type": "code",
   "execution_count": null,
   "metadata": {},
   "outputs": [],
   "source": [
    "preloaded_bike_inflow = bike_inflow[bike_inflow[\"time\"] < f\"2019-02-01 01:00:06\"]\n",
    "preloaded_bike_outflow = bike_outflow[bike_outflow[\"time\"] < f\"2019-02-01 01:00:06\"]\n",
    "\n",
    "remaining_bike_inflow = bike_inflow[bike_inflow[\"time\"] > f\"2019-02-01 01:00:06\"]\n",
    "remaining_bike_outflow = bike_outflow[bike_outflow[\"time\"] > f\"2019-02-01 01:00:06\"]"
   ]
  },
  {
   "cell_type": "code",
   "execution_count": null,
   "metadata": {},
   "outputs": [],
   "source": [
    "remaining_bike_outflow"
   ]
  },
  {
   "cell_type": "code",
   "execution_count": null,
   "metadata": {},
   "outputs": [],
   "source": [
    "from kafka import KafkaProducer\n",
    "\n",
    "# Export data to kafka\n",
    "producer = KafkaProducer(bootstrap_servers='localhost:9092')\n",
    "\n",
    "# Write 100 messages to kafka\n",
    "# The number need to be considered later\n",
    "N = preloaded_bike_inflow.shape[0]\n",
    "for i in range(N):\n",
    "    # json_string = simplified_bike_data.iloc[i].to_json()\n",
    "    inflow_string = preloaded_bike_inflow.iloc[i].to_json()\n",
    "    outflow_string = preloaded_bike_outflow.iloc[i].to_json()\n",
    "    # To send a message\n",
    "    # producer.send('bike_origin', json_string.encode('utf-8'))\n",
    "    producer.send('bike_inflow', inflow_string.encode('utf-8'))\n",
    "    producer.send('bike_outflow', outflow_string.encode('utf-8'))"
   ]
  },
  {
   "cell_type": "code",
   "execution_count": null,
   "metadata": {},
   "outputs": [],
   "source": [
    "producer = KafkaProducer(bootstrap_servers='localhost:9092')\n",
    "\n",
    "N = remaining_bike_inflow.shape[0]\n",
    "for i in range(N):\n",
    "    inflow_string = remaining_bike_inflow.iloc[i].to_json()\n",
    "    outflow_string = remaining_bike_outflow.iloc[i].to_json()\n",
    "\n",
    "    # To send a message\n",
    "    producer.send('bike_inflow', inflow_string.encode('utf-8'))\n",
    "    producer.send('bike_outflow', outflow_string.encode('utf-8'))\n",
    "    time.sleep(1)\n",
    "\n",
    "producer.flush()  # Wait for any outstanding messages to be transmitted and delivery acknowledgments received\n",
    "producer.close()"
   ]
  },
  {
   "cell_type": "code",
   "execution_count": null,
   "metadata": {
    "vscode": {
     "languageId": "sql"
    }
   },
   "outputs": [],
   "source": [
    "CREATE TABLE manhattan_bike (\n",
    "\tstarttime TIMESTAMP, \n",
    "\tstoptime TIMESTAMP, \n",
    "\t`start station latitude` FLOAT, \n",
    "\t`start station longitude` FLOAT, \n",
    "\t`end station latitude` FLOAT, \n",
    "\t`end station longitude` FLOAT, \n",
    "\t`PULocationID` BIGINT, \n",
    "\t`DOLocationID` BIGINT\n",
    ") WITH (\n",
    "    'connector' = 'kafka',  -- using kafka connector\n",
    "    'topic' = 'bike_origin',  -- kafka topic\n",
    "    'scan.startup.mode' = 'earliest-offset',  -- reading from the beginning\n",
    "    'properties.bootstrap.servers' = 'localhost:9092',  -- kafka broker address\n",
    "    'format' = 'json'  -- the data format is json\n",
    ");\n",
    "\n",
    "CREATE TABLE bike_inflow (\n",
    "\tstoptime TIMESTAMP(3), \n",
    "\t`DOLocationID` BIGINT, \n",
    "    WATERMARK FOR stoptime AS stoptime - INTERVAL '5' SECOND\n",
    ")WITH (\n",
    "    'connector' = 'kafka',  -- using kafka connector\n",
    "    'topic' = 'bike_inflow',  -- kafka topic\n",
    "    'scan.startup.mode' = 'earliest-offset',  -- reading from the beginning\n",
    "    'properties.bootstrap.servers' = 'localhost:9092',  -- kafka broker address\n",
    "    'format' = 'json'  -- the data format is json\n",
    ");\n",
    "\n",
    "CREATE TABLE bike_outflow (\n",
    "\tstarttime TIMESTAMP(3), \n",
    "\t`PULocationID` BIGINT, \n",
    "    WATERMARK FOR starttime AS starttime - INTERVAL '5' SECOND\n",
    ")WITH (\n",
    "    'connector' = 'kafka',  -- using kafka connector\n",
    "    'topic' = 'bike_outflow',  -- kafka topic\n",
    "    'scan.startup.mode' = 'earliest-offset',  -- reading from the beginning\n",
    "    'properties.bootstrap.servers' = 'localhost:9092',  -- kafka broker address\n",
    "    'format' = 'json'  -- the data format is json\n",
    ");\n"
   ]
  },
  {
   "cell_type": "code",
   "execution_count": null,
   "metadata": {
    "vscode": {
     "languageId": "sql"
    }
   },
   "outputs": [],
   "source": [
    "CREATE TABLE bike_origin_es (\n",
    "    starttime TIMESTAMP, \n",
    "\tstoptime TIMESTAMP, \n",
    "\t`start station latitude` FLOAT, \n",
    "\t`start station longitude` FLOAT, \n",
    "\t`end station latitude` FLOAT, \n",
    "\t`end station longitude` FLOAT, \n",
    "\t`PULocationID` BIGINT, \n",
    "\t`DOLocationID` BIGINT\n",
    ") WITH (\n",
    "    'connector' = 'elasticsearch-7', -- using elasticsearch connector\n",
    "    'hosts' = 'https://demo0.es.asia-southeast1.gcp.elastic-cloud.com:9243',  -- elasticsearch address\n",
    "    'username' = 'elastic',\n",
    "    'password' = 'G1Tqo3onjeIg7G8E6zSIWlq8',\n",
    "    'index' = 'bike_origin_es'  -- elasticsearch index name, similar to database table name\n",
    ");\n",
    "\n",
    "INSERT INTO bike_origin_es (SELECT * FROM manhattan_bike);"
   ]
  }
 ],
 "metadata": {
  "kernelspec": {
   "display_name": "Python 3",
   "language": "python",
   "name": "python3"
  },
  "language_info": {
   "codemirror_mode": {
    "name": "ipython",
    "version": 3
   },
   "file_extension": ".py",
   "mimetype": "text/x-python",
   "name": "python",
   "nbconvert_exporter": "python",
   "pygments_lexer": "ipython3",
   "version": "3.11.0"
  },
  "orig_nbformat": 4
 },
 "nbformat": 4,
 "nbformat_minor": 2
}
